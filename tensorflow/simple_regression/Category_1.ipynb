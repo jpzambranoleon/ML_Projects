{
  "nbformat": 4,
  "nbformat_minor": 0,
  "metadata": {
    "colab": {
      "name": "Category_1.ipynb",
      "provenance": [],
      "collapsed_sections": []
    },
    "kernelspec": {
      "name": "python3",
      "display_name": "Python 3"
    }
  },
  "cells": [
    {
      "cell_type": "code",
      "metadata": {
        "id": "6Bg2nJu5n80c",
        "colab": {
          "base_uri": "https://localhost:8080/",
          "height": 34
        },
        "outputId": "0647db57-c481-4e44-e4fc-d27547c2e25d"
      },
      "source": [
        "import tensorflow as tf\n",
        "import numpy as np\n",
        "\n",
        "def solution_model():\n",
        "\n",
        "  xs = np.array([-1.0, 0.0, 1.0, 2.0, 3.0], dtype=float)\n",
        "  ys = np.array([0.0, 1.0, 2.0, 3.0, 4.0 ], dtype=float)\n",
        "\n",
        "  model = tf.keras.Sequential([\n",
        "     tf.keras.layers.Dense(4, input_shape=[1]),\n",
        "     tf.keras.layers.Dense(4),\n",
        "     tf.keras.layers.Dense(1)                          \n",
        "  ])\n",
        "\n",
        "  model.compile(loss='mean_squared_error', optimizer=tf.keras.optimizers.Adam(0.1))\n",
        "\n",
        "  model.fit(xs, ys, epochs=500, verbose=False)\n",
        "\n",
        "  print(model.predict([10.0]))\n",
        "\n",
        "  return model\n",
        "\n",
        "if __name__ == '__main__':\n",
        "  model = solution_model()\n",
        "  model.save(\"my_model.h5\")"
      ],
      "execution_count": null,
      "outputs": [
        {
          "output_type": "stream",
          "text": [
            "[[10.999999]]\n"
          ],
          "name": "stdout"
        }
      ]
    }
  ]
}